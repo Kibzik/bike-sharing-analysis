{
 "cells": [
  {
   "cell_type": "code",
   "execution_count": 6,
   "id": "2fa8b0b6",
   "metadata": {},
   "outputs": [
    {
     "data": {
      "text/plain": [
       "1"
      ]
     },
     "execution_count": 6,
     "metadata": {},
     "output_type": "execute_result"
    }
   ],
   "source": [
    "os.system(f\"wget https://data.cityofchicago.org/api/geospatial/gdcf-axmw?method=export&format=Shapefile\")"
   ]
  },
  {
   "cell_type": "code",
   "execution_count": 4,
   "id": "524de3d1",
   "metadata": {
    "ExecuteTime": {
     "end_time": "2022-11-29T17:58:29.656050Z",
     "start_time": "2022-11-29T17:58:28.934269Z"
    }
   },
   "outputs": [],
   "source": [
    "import os\n",
    "import zipfile\n",
    "import pandas as pd\n",
    "\n",
    "from wwo_hist import retrieve_hist_data"
   ]
  },
  {
   "cell_type": "code",
   "execution_count": 3,
   "id": "7fc065c6",
   "metadata": {
    "ExecuteTime": {
     "end_time": "2022-11-29T17:58:29.687011Z",
     "start_time": "2022-11-29T17:58:29.677193Z"
    }
   },
   "outputs": [],
   "source": [
    "df_trips = pd.DataFrame()\n",
    "files_to_remove = []\n",
    "years = ['2021', '2022']\n",
    "monthes = ['0' + str(m) if m < 10 else str(m) for m in range(1, 13, 1)]"
   ]
  },
  {
   "cell_type": "code",
   "execution_count": 14,
   "id": "e7994c81",
   "metadata": {
    "ExecuteTime": {
     "end_time": "2022-11-29T18:07:40.228485Z",
     "start_time": "2022-11-29T17:58:29.693011Z"
    }
   },
   "outputs": [
    {
     "name": "stdout",
     "output_type": "stream",
     "text": [
      "0\n",
      "0\n",
      "0\n",
      "0\n",
      "0\n",
      "0\n",
      "0\n",
      "0\n",
      "0\n",
      "0\n",
      "0\n",
      "0\n",
      "0\n",
      "0\n",
      "0\n",
      "0\n",
      "0\n",
      "0\n",
      "0\n",
      "0\n",
      "0\n",
      "0\n",
      "8\n",
      "8\n"
     ]
    }
   ],
   "source": [
    "for year in years:\n",
    "    for month in monthes:\n",
    "        code = os.system(f\"wget https://divvy-tripdata.s3.amazonaws.com/{year}{month}-divvy-tripdata.zip\")\n",
    "        print(code)\n",
    "        if not code:\n",
    "            zf = zipfile.ZipFile(f\"{year}{month}-divvy-tripdata.zip\") \n",
    "            trip_df = pd.read_csv(zf.open(zf.infolist()[0].filename))\n",
    "            trip_df.to_csv(f\"{year}{month}-divvy-tripdata.csv\", index=False)\n",
    "            files_to_remove.append(f\"{year}{month}-divvy-tripdata.zip\")"
   ]
  },
  {
   "cell_type": "code",
   "execution_count": 25,
   "id": "12954dba",
   "metadata": {
    "ExecuteTime": {
     "end_time": "2022-11-29T18:07:40.529229Z",
     "start_time": "2022-11-29T18:07:40.230190Z"
    }
   },
   "outputs": [
    {
     "ename": "FileNotFoundError",
     "evalue": "[WinError 2] The system cannot find the file specified: '202107-divvy-tripdata.zip'",
     "output_type": "error",
     "traceback": [
      "\u001b[1;31m---------------------------------------------------------------------------\u001b[0m",
      "\u001b[1;31mFileNotFoundError\u001b[0m                         Traceback (most recent call last)",
      "\u001b[1;32m~\\AppData\\Local\\Temp\\ipykernel_10060\\2388771054.py\u001b[0m in \u001b[0;36m<module>\u001b[1;34m\u001b[0m\n\u001b[0;32m      1\u001b[0m \u001b[1;32mfor\u001b[0m \u001b[0mftr\u001b[0m \u001b[1;32min\u001b[0m \u001b[0mreversed\u001b[0m\u001b[1;33m(\u001b[0m\u001b[0mfiles_to_remove\u001b[0m\u001b[1;33m)\u001b[0m\u001b[1;33m:\u001b[0m\u001b[1;33m\u001b[0m\u001b[1;33m\u001b[0m\u001b[0m\n\u001b[1;32m----> 2\u001b[1;33m     \u001b[0mos\u001b[0m\u001b[1;33m.\u001b[0m\u001b[0mremove\u001b[0m\u001b[1;33m(\u001b[0m\u001b[0mftr\u001b[0m\u001b[1;33m)\u001b[0m\u001b[1;33m\u001b[0m\u001b[1;33m\u001b[0m\u001b[0m\n\u001b[0m\u001b[0;32m      3\u001b[0m     \u001b[0mfiles_to_remove\u001b[0m\u001b[1;33m.\u001b[0m\u001b[0mremove\u001b[0m\u001b[1;33m(\u001b[0m\u001b[0mftr\u001b[0m\u001b[1;33m)\u001b[0m\u001b[1;33m\u001b[0m\u001b[1;33m\u001b[0m\u001b[0m\n",
      "\u001b[1;31mFileNotFoundError\u001b[0m: [WinError 2] The system cannot find the file specified: '202107-divvy-tripdata.zip'"
     ]
    }
   ],
   "source": [
    "for ftr in reversed(files_to_remove):\n",
    "    os.remove(ftr)\n",
    "    files_to_remove.remove(ftr)"
   ]
  },
  {
   "cell_type": "code",
   "execution_count": 27,
   "id": "60f99ae2",
   "metadata": {
    "ExecuteTime": {
     "end_time": "2022-11-29T18:07:40.537229Z",
     "start_time": "2022-11-29T17:58:28.884Z"
    }
   },
   "outputs": [],
   "source": [
    "os.chdir(\"../weather/\")"
   ]
  },
  {
   "cell_type": "code",
   "execution_count": 28,
   "id": "aaca6d3d",
   "metadata": {
    "ExecuteTime": {
     "end_time": "2022-11-29T18:07:40.541199Z",
     "start_time": "2022-11-29T17:58:28.889Z"
    }
   },
   "outputs": [
    {
     "name": "stdout",
     "output_type": "stream",
     "text": [
      "\n",
      "\n",
      "Retrieving weather data for chicago\n",
      "\n",
      "\n",
      "Currently retrieving data for chicago: from 2020-04-01 to 2020-04-30\n"
     ]
    },
    {
     "name": "stderr",
     "output_type": "stream",
     "text": [
      "C:\\Users\\hugom\\anaconda3\\lib\\site-packages\\wwo_hist\\__init__.py:69: FutureWarning: Argument `closed` is deprecated in favor of `inclusive`.\n",
      "  list_mon_begin = pd.date_range(start_date, end_date, freq='MS', closed='right')\n",
      "C:\\Users\\hugom\\anaconda3\\lib\\site-packages\\wwo_hist\\__init__.py:74: FutureWarning: Argument `closed` is deprecated in favor of `inclusive`.\n",
      "  list_mon_end = pd.date_range(start_date, end_date, freq='M', closed='left')\n"
     ]
    },
    {
     "name": "stdout",
     "output_type": "stream",
     "text": [
      "Time elapsed (hh:mm:ss.ms) 0:00:01.306007\n",
      "Currently retrieving data for chicago: from 2020-05-01 to 2020-05-31\n",
      "Time elapsed (hh:mm:ss.ms) 0:00:02.317777\n",
      "Currently retrieving data for chicago: from 2020-06-01 to 2020-06-30\n",
      "Time elapsed (hh:mm:ss.ms) 0:00:03.394998\n",
      "Currently retrieving data for chicago: from 2020-07-01 to 2020-07-31\n",
      "Time elapsed (hh:mm:ss.ms) 0:00:04.496931\n",
      "Currently retrieving data for chicago: from 2020-08-01 to 2020-08-31\n",
      "Time elapsed (hh:mm:ss.ms) 0:00:05.533054\n",
      "Currently retrieving data for chicago: from 2020-09-01 to 2020-09-30\n",
      "Time elapsed (hh:mm:ss.ms) 0:00:06.499048\n",
      "Currently retrieving data for chicago: from 2020-10-01 to 2020-10-31\n",
      "Time elapsed (hh:mm:ss.ms) 0:00:07.587528\n",
      "Currently retrieving data for chicago: from 2020-11-01 to 2020-11-30\n",
      "Time elapsed (hh:mm:ss.ms) 0:00:08.605447\n",
      "Currently retrieving data for chicago: from 2020-12-01 to 2020-12-31\n",
      "Time elapsed (hh:mm:ss.ms) 0:00:09.691234\n",
      "Currently retrieving data for chicago: from 2021-01-01 to 2021-01-31\n",
      "Time elapsed (hh:mm:ss.ms) 0:00:10.714191\n",
      "Currently retrieving data for chicago: from 2021-02-01 to 2021-02-28\n",
      "Time elapsed (hh:mm:ss.ms) 0:00:11.737496\n",
      "Currently retrieving data for chicago: from 2021-03-01 to 2021-03-31\n",
      "Time elapsed (hh:mm:ss.ms) 0:00:12.723313\n",
      "Currently retrieving data for chicago: from 2021-04-01 to 2021-04-30\n",
      "Time elapsed (hh:mm:ss.ms) 0:00:13.722029\n",
      "Currently retrieving data for chicago: from 2021-05-01 to 2021-05-31\n",
      "Time elapsed (hh:mm:ss.ms) 0:00:14.822873\n",
      "Currently retrieving data for chicago: from 2021-06-01 to 2021-06-30\n",
      "Time elapsed (hh:mm:ss.ms) 0:00:15.920705\n",
      "Currently retrieving data for chicago: from 2021-07-01 to 2021-07-31\n",
      "Time elapsed (hh:mm:ss.ms) 0:00:17.022335\n",
      "Currently retrieving data for chicago: from 2021-08-01 to 2021-08-31\n",
      "Time elapsed (hh:mm:ss.ms) 0:00:18.189724\n",
      "Currently retrieving data for chicago: from 2021-09-01 to 2021-09-30\n",
      "Time elapsed (hh:mm:ss.ms) 0:00:19.215561\n",
      "Currently retrieving data for chicago: from 2021-10-01 to 2021-10-31\n",
      "Time elapsed (hh:mm:ss.ms) 0:00:20.291939\n",
      "Currently retrieving data for chicago: from 2021-11-01 to 2021-11-30\n",
      "Time elapsed (hh:mm:ss.ms) 0:00:21.336841\n",
      "Currently retrieving data for chicago: from 2021-12-01 to 2021-12-31\n",
      "Time elapsed (hh:mm:ss.ms) 0:00:22.444069\n",
      "Currently retrieving data for chicago: from 2022-01-01 to 2022-01-31\n",
      "Time elapsed (hh:mm:ss.ms) 0:00:23.572846\n",
      "Currently retrieving data for chicago: from 2022-02-01 to 2022-02-28\n",
      "Time elapsed (hh:mm:ss.ms) 0:00:24.598013\n",
      "Currently retrieving data for chicago: from 2022-03-01 to 2022-03-31\n",
      "Time elapsed (hh:mm:ss.ms) 0:00:25.679439\n",
      "Currently retrieving data for chicago: from 2022-04-01 to 2022-04-30\n",
      "Time elapsed (hh:mm:ss.ms) 0:00:26.800427\n",
      "Currently retrieving data for chicago: from 2022-05-01 to 2022-05-31\n",
      "Time elapsed (hh:mm:ss.ms) 0:00:27.913242\n",
      "Currently retrieving data for chicago: from 2022-06-01 to 2022-06-30\n",
      "Time elapsed (hh:mm:ss.ms) 0:00:29.032788\n",
      "Currently retrieving data for chicago: from 2022-07-01 to 2022-07-31\n",
      "Time elapsed (hh:mm:ss.ms) 0:00:30.089013\n",
      "Currently retrieving data for chicago: from 2022-08-01 to 2022-08-31\n",
      "Time elapsed (hh:mm:ss.ms) 0:00:31.109516\n",
      "Currently retrieving data for chicago: from 2022-09-01 to 2022-09-30\n",
      "Time elapsed (hh:mm:ss.ms) 0:00:32.153348\n",
      "Currently retrieving data for chicago: from 2022-10-01 to 2022-10-31\n",
      "Time elapsed (hh:mm:ss.ms) 0:00:33.212637\n",
      "Currently retrieving data for chicago: from 2022-11-01 to 2022-11-27\n",
      "Time elapsed (hh:mm:ss.ms) 0:00:34.252072\n",
      "\n",
      "\n",
      "export chicago completed!\n",
      "\n",
      "\n"
     ]
    }
   ],
   "source": [
    "api_key = '54951602af4b445ca3f180347222811'\n",
    "location_list = ['chicago']\n",
    "start_date = '01-APR-2020'\n",
    "end_date = '27-NOV-2022'\n",
    "frequency = 1 # hour diff\n",
    "\n",
    "hist_weather_data = retrieve_hist_data(api_key,\n",
    "                                       location_list,\n",
    "                                       start_date,\n",
    "                                       end_date,\n",
    "                                       frequency,\n",
    "                                       location_label=False,\n",
    "                                       export_csv=True,\n",
    "                                       store_df=True)"
   ]
  }
 ],
 "metadata": {
  "hide_input": false,
  "kernelspec": {
   "display_name": "Python 3 (ipykernel)",
   "language": "python",
   "name": "python3"
  },
  "language_info": {
   "codemirror_mode": {
    "name": "ipython",
    "version": 3
   },
   "file_extension": ".py",
   "mimetype": "text/x-python",
   "name": "python",
   "nbconvert_exporter": "python",
   "pygments_lexer": "ipython3",
   "version": "3.9.13"
  },
  "toc": {
   "base_numbering": 1,
   "nav_menu": {},
   "number_sections": true,
   "sideBar": true,
   "skip_h1_title": false,
   "title_cell": "Table of Contents",
   "title_sidebar": "Contents",
   "toc_cell": false,
   "toc_position": {},
   "toc_section_display": true,
   "toc_window_display": false
  },
  "varInspector": {
   "cols": {
    "lenName": 16,
    "lenType": 16,
    "lenVar": 40
   },
   "kernels_config": {
    "python": {
     "delete_cmd_postfix": "",
     "delete_cmd_prefix": "del ",
     "library": "var_list.py",
     "varRefreshCmd": "print(var_dic_list())"
    },
    "r": {
     "delete_cmd_postfix": ") ",
     "delete_cmd_prefix": "rm(",
     "library": "var_list.r",
     "varRefreshCmd": "cat(var_dic_list()) "
    }
   },
   "types_to_exclude": [
    "module",
    "function",
    "builtin_function_or_method",
    "instance",
    "_Feature"
   ],
   "window_display": false
  }
 },
 "nbformat": 4,
 "nbformat_minor": 5
}
