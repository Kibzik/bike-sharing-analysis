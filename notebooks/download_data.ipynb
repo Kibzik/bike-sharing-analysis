{
 "cells": [
  {
   "cell_type": "code",
   "execution_count": 1,
   "id": "524de3d1",
   "metadata": {
    "ExecuteTime": {
     "end_time": "2022-12-12T20:04:46.818601Z",
     "start_time": "2022-12-12T20:04:46.453303Z"
    }
   },
   "outputs": [],
   "source": [
    "import os\n",
    "import zipfile\n",
    "import pandas as pd\n",
    "\n",
    "from wwo_hist import retrieve_hist_data"
   ]
  },
  {
   "cell_type": "code",
   "execution_count": 2,
   "id": "7fc065c6",
   "metadata": {
    "ExecuteTime": {
     "end_time": "2022-12-12T20:04:46.834270Z",
     "start_time": "2022-12-12T20:04:46.820589Z"
    }
   },
   "outputs": [],
   "source": [
    "df_trips = pd.DataFrame()\n",
    "files_to_remove = []\n",
    "years = ['2021', '2022']\n",
    "monthes = ['0' + str(m) if m < 10 else str(m) for m in range(1, 13, 1)]"
   ]
  },
  {
   "cell_type": "code",
   "execution_count": 3,
   "id": "e7994c81",
   "metadata": {
    "ExecuteTime": {
     "end_time": "2022-12-12T20:11:32.790606Z",
     "start_time": "2022-12-12T20:04:46.837269Z"
    }
   },
   "outputs": [
    {
     "name": "stdout",
     "output_type": "stream",
     "text": [
      "0\n",
      "0\n",
      "0\n",
      "0\n",
      "0\n",
      "0\n",
      "0\n",
      "0\n",
      "0\n",
      "0\n",
      "0\n",
      "0\n",
      "0\n",
      "0\n",
      "0\n",
      "0\n",
      "0\n",
      "0\n",
      "0\n",
      "0\n",
      "0\n",
      "0\n",
      "0\n",
      "8\n"
     ]
    }
   ],
   "source": [
    "for year in years:\n",
    "    for month in monthes:\n",
    "        trips_url = \"https://divvy-tripdata.s3.amazonaws.com/\"\n",
    "        download_folder = \"../data/trips/\"\n",
    "        code = os.system(\n",
    "                    f\"wget -P {download_folder} {trips_url}{year}{month}-divvy-tripdata.zip\")\n",
    "        print(code)\n",
    "        if not code:\n",
    "            zf = zipfile.ZipFile(f\"{download_folder}/{year}{month}-divvy-tripdata.zip\") \n",
    "            trip_df = pd.read_csv(zf.open(zf.infolist()[0].filename))\n",
    "            trip_df.to_csv(f\"{download_folder}{year}{month}-divvy-tripdata.csv\", index=False)\n",
    "            files_to_remove.append(f\"{download_folder}{year}{month}-divvy-tripdata.zip\")"
   ]
  },
  {
   "cell_type": "code",
   "execution_count": 4,
   "id": "12954dba",
   "metadata": {
    "ExecuteTime": {
     "end_time": "2022-12-12T20:11:32.901608Z",
     "start_time": "2022-12-12T20:11:32.792608Z"
    },
    "scrolled": true
   },
   "outputs": [
    {
     "name": "stdout",
     "output_type": "stream",
     "text": [
      "Error in remove file: [WinError 32] The process cannot access the file because it is being used by another process: '../data/trips/202211-divvy-tripdata.zip'\n"
     ]
    }
   ],
   "source": [
    "try:\n",
    "    [os.remove(ftr) for ftr in files_to_remove]\n",
    "except PermissionError as pe:\n",
    "    print(\"Error in remove file: \" + str(pe))"
   ]
  },
  {
   "cell_type": "code",
   "execution_count": 5,
   "id": "60f99ae2",
   "metadata": {
    "ExecuteTime": {
     "end_time": "2022-12-12T20:11:32.981607Z",
     "start_time": "2022-12-12T20:11:32.903609Z"
    }
   },
   "outputs": [],
   "source": [
    "os.chdir(\"../data/weather/\")"
   ]
  },
  {
   "cell_type": "code",
   "execution_count": 6,
   "id": "aaca6d3d",
   "metadata": {
    "ExecuteTime": {
     "end_time": "2022-12-12T20:12:18.198606Z",
     "start_time": "2022-12-12T20:11:32.983604Z"
    }
   },
   "outputs": [
    {
     "name": "stdout",
     "output_type": "stream",
     "text": [
      "\n",
      "\n",
      "Retrieving weather data for chicago\n",
      "\n",
      "\n",
      "Currently retrieving data for chicago: from 2020-04-01 to 2020-04-30\n"
     ]
    },
    {
     "name": "stderr",
     "output_type": "stream",
     "text": [
      "C:\\Users\\hugom\\anaconda3\\lib\\site-packages\\wwo_hist\\__init__.py:69: FutureWarning: Argument `closed` is deprecated in favor of `inclusive`.\n",
      "  list_mon_begin = pd.date_range(start_date, end_date, freq='MS', closed='right')\n",
      "C:\\Users\\hugom\\anaconda3\\lib\\site-packages\\wwo_hist\\__init__.py:74: FutureWarning: Argument `closed` is deprecated in favor of `inclusive`.\n",
      "  list_mon_end = pd.date_range(start_date, end_date, freq='M', closed='left')\n"
     ]
    },
    {
     "name": "stdout",
     "output_type": "stream",
     "text": [
      "Time elapsed (hh:mm:ss.ms) 0:00:01.275995\n",
      "Currently retrieving data for chicago: from 2020-05-01 to 2020-05-31\n",
      "Time elapsed (hh:mm:ss.ms) 0:00:02.555996\n",
      "Currently retrieving data for chicago: from 2020-06-01 to 2020-06-30\n",
      "Time elapsed (hh:mm:ss.ms) 0:00:03.805995\n",
      "Currently retrieving data for chicago: from 2020-07-01 to 2020-07-31\n",
      "Time elapsed (hh:mm:ss.ms) 0:00:05.164995\n",
      "Currently retrieving data for chicago: from 2020-08-01 to 2020-08-31\n",
      "Time elapsed (hh:mm:ss.ms) 0:00:06.585994\n",
      "Currently retrieving data for chicago: from 2020-09-01 to 2020-09-30\n",
      "Time elapsed (hh:mm:ss.ms) 0:00:07.817994\n",
      "Currently retrieving data for chicago: from 2020-10-01 to 2020-10-31\n",
      "Time elapsed (hh:mm:ss.ms) 0:00:09.096998\n",
      "Currently retrieving data for chicago: from 2020-11-01 to 2020-11-30\n",
      "Time elapsed (hh:mm:ss.ms) 0:00:10.201996\n",
      "Currently retrieving data for chicago: from 2020-12-01 to 2020-12-31\n",
      "Time elapsed (hh:mm:ss.ms) 0:00:11.612995\n",
      "Currently retrieving data for chicago: from 2021-01-01 to 2021-01-31\n",
      "Time elapsed (hh:mm:ss.ms) 0:00:13.364994\n",
      "Currently retrieving data for chicago: from 2021-02-01 to 2021-02-28\n",
      "Time elapsed (hh:mm:ss.ms) 0:00:14.743995\n",
      "Currently retrieving data for chicago: from 2021-03-01 to 2021-03-31\n",
      "Time elapsed (hh:mm:ss.ms) 0:00:16.228995\n",
      "Currently retrieving data for chicago: from 2021-04-01 to 2021-04-30\n",
      "Time elapsed (hh:mm:ss.ms) 0:00:17.557997\n",
      "Currently retrieving data for chicago: from 2021-05-01 to 2021-05-31\n",
      "Time elapsed (hh:mm:ss.ms) 0:00:19.104996\n",
      "Currently retrieving data for chicago: from 2021-06-01 to 2021-06-30\n",
      "Time elapsed (hh:mm:ss.ms) 0:00:20.444998\n",
      "Currently retrieving data for chicago: from 2021-07-01 to 2021-07-31\n",
      "Time elapsed (hh:mm:ss.ms) 0:00:21.648995\n",
      "Currently retrieving data for chicago: from 2021-08-01 to 2021-08-31\n",
      "Time elapsed (hh:mm:ss.ms) 0:00:23.030994\n",
      "Currently retrieving data for chicago: from 2021-09-01 to 2021-09-30\n",
      "Time elapsed (hh:mm:ss.ms) 0:00:24.371994\n",
      "Currently retrieving data for chicago: from 2021-10-01 to 2021-10-31\n",
      "Time elapsed (hh:mm:ss.ms) 0:00:25.870996\n",
      "Currently retrieving data for chicago: from 2021-11-01 to 2021-11-30\n",
      "Time elapsed (hh:mm:ss.ms) 0:00:27.310994\n",
      "Currently retrieving data for chicago: from 2021-12-01 to 2021-12-31\n",
      "Time elapsed (hh:mm:ss.ms) 0:00:28.878996\n",
      "Currently retrieving data for chicago: from 2022-01-01 to 2022-01-31\n",
      "Time elapsed (hh:mm:ss.ms) 0:00:30.270994\n",
      "Currently retrieving data for chicago: from 2022-02-01 to 2022-02-28\n",
      "Time elapsed (hh:mm:ss.ms) 0:00:31.542995\n",
      "Currently retrieving data for chicago: from 2022-03-01 to 2022-03-31\n",
      "Time elapsed (hh:mm:ss.ms) 0:00:32.925994\n",
      "Currently retrieving data for chicago: from 2022-04-01 to 2022-04-30\n",
      "Time elapsed (hh:mm:ss.ms) 0:00:34.336996\n",
      "Currently retrieving data for chicago: from 2022-05-01 to 2022-05-31\n",
      "Time elapsed (hh:mm:ss.ms) 0:00:35.605994\n",
      "Currently retrieving data for chicago: from 2022-06-01 to 2022-06-30\n",
      "Time elapsed (hh:mm:ss.ms) 0:00:36.888996\n",
      "Currently retrieving data for chicago: from 2022-07-01 to 2022-07-31\n",
      "Time elapsed (hh:mm:ss.ms) 0:00:38.433995\n",
      "Currently retrieving data for chicago: from 2022-08-01 to 2022-08-31\n",
      "Time elapsed (hh:mm:ss.ms) 0:00:40.771996\n",
      "Currently retrieving data for chicago: from 2022-09-01 to 2022-09-30\n",
      "Time elapsed (hh:mm:ss.ms) 0:00:41.894994\n",
      "Currently retrieving data for chicago: from 2022-10-01 to 2022-10-31\n",
      "Time elapsed (hh:mm:ss.ms) 0:00:43.336995\n",
      "Currently retrieving data for chicago: from 2022-11-01 to 2022-11-27\n",
      "Time elapsed (hh:mm:ss.ms) 0:00:44.490996\n",
      "\n",
      "\n",
      "export chicago completed!\n",
      "\n",
      "\n"
     ]
    }
   ],
   "source": [
    "api_key = '54951602af4b445ca3f180347222811'\n",
    "location_list = ['chicago']\n",
    "start_date = '01-APR-2020'\n",
    "end_date = '27-NOV-2022'\n",
    "frequency = 1  # hour diff\n",
    "\n",
    "hist_weather_data = retrieve_hist_data(api_key,\n",
    "                                       location_list,\n",
    "                                       start_date,\n",
    "                                       end_date,\n",
    "                                       frequency,\n",
    "                                       location_label=False,\n",
    "                                       export_csv=True,\n",
    "                                       store_df=True)"
   ]
  }
 ],
 "metadata": {
  "hide_input": false,
  "kernelspec": {
   "display_name": "Python 3 (ipykernel)",
   "language": "python",
   "name": "python3"
  },
  "language_info": {
   "codemirror_mode": {
    "name": "ipython",
    "version": 3
   },
   "file_extension": ".py",
   "mimetype": "text/x-python",
   "name": "python",
   "nbconvert_exporter": "python",
   "pygments_lexer": "ipython3",
   "version": "3.9.13"
  },
  "toc": {
   "base_numbering": 1,
   "nav_menu": {},
   "number_sections": true,
   "sideBar": true,
   "skip_h1_title": false,
   "title_cell": "Table of Contents",
   "title_sidebar": "Contents",
   "toc_cell": false,
   "toc_position": {},
   "toc_section_display": true,
   "toc_window_display": false
  },
  "varInspector": {
   "cols": {
    "lenName": 16,
    "lenType": 16,
    "lenVar": 40
   },
   "kernels_config": {
    "python": {
     "delete_cmd_postfix": "",
     "delete_cmd_prefix": "del ",
     "library": "var_list.py",
     "varRefreshCmd": "print(var_dic_list())"
    },
    "r": {
     "delete_cmd_postfix": ") ",
     "delete_cmd_prefix": "rm(",
     "library": "var_list.r",
     "varRefreshCmd": "cat(var_dic_list()) "
    }
   },
   "types_to_exclude": [
    "module",
    "function",
    "builtin_function_or_method",
    "instance",
    "_Feature"
   ],
   "window_display": false
  }
 },
 "nbformat": 4,
 "nbformat_minor": 5
}
