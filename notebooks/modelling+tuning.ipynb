{
 "cells": [
  {
   "cell_type": "code",
   "execution_count": 1,
   "id": "3b485c86",
   "metadata": {
    "ExecuteTime": {
     "end_time": "2022-12-15T16:36:09.523185Z",
     "start_time": "2022-12-15T16:35:36.972273Z"
    }
   },
   "outputs": [],
   "source": [
    "import pandas as pd\n",
    "import numpy as np\n",
    "import seaborn as sns\n",
    "import matplotlib.pyplot as plt"
   ]
  },
  {
   "cell_type": "markdown",
   "id": "034a8b11",
   "metadata": {},
   "source": [
    "# <b><span style='color:#4797ef'>|</span> EDA | III Investigate data before modelling</b>"
   ]
  },
  {
   "cell_type": "code",
   "execution_count": 2,
   "id": "d172fc68",
   "metadata": {
    "ExecuteTime": {
     "end_time": "2022-12-15T16:36:09.738629Z",
     "start_time": "2022-12-15T16:36:09.527188Z"
    },
    "scrolled": true
   },
   "outputs": [
    {
     "data": {
      "text/html": [
       "<div>\n",
       "<style scoped>\n",
       "    .dataframe tbody tr th:only-of-type {\n",
       "        vertical-align: middle;\n",
       "    }\n",
       "\n",
       "    .dataframe tbody tr th {\n",
       "        vertical-align: top;\n",
       "    }\n",
       "\n",
       "    .dataframe thead th {\n",
       "        text-align: right;\n",
       "    }\n",
       "</style>\n",
       "<table border=\"1\" class=\"dataframe\">\n",
       "  <thead>\n",
       "    <tr style=\"text-align: right;\">\n",
       "      <th></th>\n",
       "      <th>FeelsLikeC</th>\n",
       "      <th>maxtempC</th>\n",
       "      <th>mintempC</th>\n",
       "      <th>windspeedKmph</th>\n",
       "      <th>cloudcover</th>\n",
       "      <th>humidity</th>\n",
       "      <th>pressure</th>\n",
       "      <th>visibility</th>\n",
       "      <th>is_holiday</th>\n",
       "      <th>is_weekend</th>\n",
       "      <th>year</th>\n",
       "      <th>season</th>\n",
       "      <th>month</th>\n",
       "      <th>hour</th>\n",
       "      <th>day</th>\n",
       "      <th>week_day</th>\n",
       "      <th>number_of_rides</th>\n",
       "    </tr>\n",
       "  </thead>\n",
       "  <tbody>\n",
       "    <tr>\n",
       "      <th>0</th>\n",
       "      <td>-7</td>\n",
       "      <td>1</td>\n",
       "      <td>-6</td>\n",
       "      <td>11</td>\n",
       "      <td>29</td>\n",
       "      <td>82</td>\n",
       "      <td>1028</td>\n",
       "      <td>10</td>\n",
       "      <td>1</td>\n",
       "      <td>0</td>\n",
       "      <td>2021</td>\n",
       "      <td>1</td>\n",
       "      <td>1</td>\n",
       "      <td>0</td>\n",
       "      <td>1</td>\n",
       "      <td>Friday</td>\n",
       "      <td>28</td>\n",
       "    </tr>\n",
       "    <tr>\n",
       "      <th>1</th>\n",
       "      <td>-6</td>\n",
       "      <td>1</td>\n",
       "      <td>-6</td>\n",
       "      <td>12</td>\n",
       "      <td>37</td>\n",
       "      <td>82</td>\n",
       "      <td>1028</td>\n",
       "      <td>10</td>\n",
       "      <td>1</td>\n",
       "      <td>0</td>\n",
       "      <td>2021</td>\n",
       "      <td>1</td>\n",
       "      <td>1</td>\n",
       "      <td>1</td>\n",
       "      <td>1</td>\n",
       "      <td>Friday</td>\n",
       "      <td>29</td>\n",
       "    </tr>\n",
       "    <tr>\n",
       "      <th>2</th>\n",
       "      <td>-6</td>\n",
       "      <td>1</td>\n",
       "      <td>-6</td>\n",
       "      <td>14</td>\n",
       "      <td>45</td>\n",
       "      <td>82</td>\n",
       "      <td>1027</td>\n",
       "      <td>10</td>\n",
       "      <td>1</td>\n",
       "      <td>0</td>\n",
       "      <td>2021</td>\n",
       "      <td>1</td>\n",
       "      <td>1</td>\n",
       "      <td>2</td>\n",
       "      <td>1</td>\n",
       "      <td>Friday</td>\n",
       "      <td>45</td>\n",
       "    </tr>\n",
       "    <tr>\n",
       "      <th>3</th>\n",
       "      <td>-6</td>\n",
       "      <td>1</td>\n",
       "      <td>-6</td>\n",
       "      <td>15</td>\n",
       "      <td>53</td>\n",
       "      <td>82</td>\n",
       "      <td>1027</td>\n",
       "      <td>10</td>\n",
       "      <td>1</td>\n",
       "      <td>0</td>\n",
       "      <td>2021</td>\n",
       "      <td>1</td>\n",
       "      <td>1</td>\n",
       "      <td>3</td>\n",
       "      <td>1</td>\n",
       "      <td>Friday</td>\n",
       "      <td>16</td>\n",
       "    </tr>\n",
       "    <tr>\n",
       "      <th>4</th>\n",
       "      <td>-6</td>\n",
       "      <td>1</td>\n",
       "      <td>-6</td>\n",
       "      <td>16</td>\n",
       "      <td>54</td>\n",
       "      <td>81</td>\n",
       "      <td>1026</td>\n",
       "      <td>10</td>\n",
       "      <td>1</td>\n",
       "      <td>0</td>\n",
       "      <td>2021</td>\n",
       "      <td>1</td>\n",
       "      <td>1</td>\n",
       "      <td>4</td>\n",
       "      <td>1</td>\n",
       "      <td>Friday</td>\n",
       "      <td>10</td>\n",
       "    </tr>\n",
       "  </tbody>\n",
       "</table>\n",
       "</div>"
      ],
      "text/plain": [
       "   FeelsLikeC  maxtempC  mintempC  windspeedKmph  cloudcover  humidity  \\\n",
       "0          -7         1        -6             11          29        82   \n",
       "1          -6         1        -6             12          37        82   \n",
       "2          -6         1        -6             14          45        82   \n",
       "3          -6         1        -6             15          53        82   \n",
       "4          -6         1        -6             16          54        81   \n",
       "\n",
       "   pressure  visibility  is_holiday  is_weekend  year  season  month  hour  \\\n",
       "0      1028          10           1           0  2021       1      1     0   \n",
       "1      1028          10           1           0  2021       1      1     1   \n",
       "2      1027          10           1           0  2021       1      1     2   \n",
       "3      1027          10           1           0  2021       1      1     3   \n",
       "4      1026          10           1           0  2021       1      1     4   \n",
       "\n",
       "   day week_day  number_of_rides  \n",
       "0    1   Friday               28  \n",
       "1    1   Friday               29  \n",
       "2    1   Friday               45  \n",
       "3    1   Friday               16  \n",
       "4    1   Friday               10  "
      ]
     },
     "execution_count": 2,
     "metadata": {},
     "output_type": "execute_result"
    }
   ],
   "source": [
    "df = pd.read_csv(\"../data/df_for_modelling.csv\", index_col=0)\n",
    "df.sort_values(by=[\"year\", \"month\", \"day\"], ascending=True, inplace=True)\n",
    "df.reset_index(drop=True, inplace=True)\n",
    "df.head()\n",
    "df.head()"
   ]
  },
  {
   "cell_type": "code",
   "execution_count": 3,
   "id": "b6564108",
   "metadata": {
    "ExecuteTime": {
     "end_time": "2022-12-15T16:36:09.816750Z",
     "start_time": "2022-12-15T16:36:09.738629Z"
    }
   },
   "outputs": [],
   "source": [
    "df['date'] = pd.to_datetime(df[['month', 'day', 'year', 'hour']])"
   ]
  },
  {
   "cell_type": "code",
   "execution_count": 4,
   "id": "a8537429",
   "metadata": {
    "ExecuteTime": {
     "end_time": "2022-12-15T16:36:10.069898Z",
     "start_time": "2022-12-15T16:36:09.816750Z"
    }
   },
   "outputs": [
    {
     "data": {
      "text/plain": [
       "(16749, 18)"
      ]
     },
     "execution_count": 4,
     "metadata": {},
     "output_type": "execute_result"
    }
   ],
   "source": [
    "df.shape"
   ]
  },
  {
   "cell_type": "code",
   "execution_count": 5,
   "id": "a270e649",
   "metadata": {
    "ExecuteTime": {
     "end_time": "2022-12-15T16:36:11.077576Z",
     "start_time": "2022-12-15T16:36:10.074831Z"
    }
   },
   "outputs": [
    {
     "data": {
      "text/plain": [
       "<AxesSubplot:xlabel='number_of_rides', ylabel='Count'>"
      ]
     },
     "execution_count": 5,
     "metadata": {},
     "output_type": "execute_result"
    },
    {
     "data": {
      "image/png": "[encoded data removed]",
      "text/plain": [
       "<Figure size 1300x800 with 1 Axes>"
      ]
     },
     "metadata": {},
     "output_type": "display_data"
    }
   ],
   "source": [
    "fig, axs = plt.subplots(figsize=(13, 8), ncols=1)\n",
    "sns.histplot(df[\"number_of_rides\"], bins=50, color=\"#00ce96\")"
   ]
  },
  {
   "cell_type": "code",
   "execution_count": 6,
   "id": "d9eadf78",
   "metadata": {
    "ExecuteTime": {
     "end_time": "2022-12-15T16:36:11.625453Z",
     "start_time": "2022-12-15T16:36:11.077576Z"
    }
   },
   "outputs": [
    {
     "data": {
      "image/png": "[encoded data removed]",
      "text/plain": [
       "<Figure size 1200x600 with 2 Axes>"
      ]
     },
     "metadata": {},
     "output_type": "display_data"
    }
   ],
   "source": [
    "fig, ax = plt.subplots(figsize=(12, 6))\n",
    "ax = sns.heatmap(df.corr(), cmap=\"viridis\",  # Choose a squential colormap\n",
    "                 annot_kws={'fontsize': 11},  # Reduce size of label to fit\n",
    "                 fmt='',          # Interpret labels as strings\n",
    "                 cbar_kws={\"shrink\": 0.6},\n",
    "                 square=True,     # Force square cells\n",
    "                 linewidth=0.01,  # Add gridlines\n",
    "                 linecolor=\"#222\")\n",
    "\n",
    "plt.savefig(\"../imgs/heatmap_features.png\", transparent=True)\n",
    "plt.show()"
   ]
  },
  {
   "cell_type": "markdown",
   "id": "1bde3e2f",
   "metadata": {},
   "source": [
    "**Humidity** and the **cloudcover** has very high correlation within themselves, so it is better to drop one to remove any sort of multicollinearity.\n",
    "\n",
    "**maxtempC**, **mintempC**, the **feeling temperature** and **season** has very high correlation within themselves, so it is better to leave only 1 column to remove any sort of multicollinearity."
   ]
  },
  {
   "cell_type": "code",
   "execution_count": 7,
   "id": "f2b80707",
   "metadata": {
    "ExecuteTime": {
     "end_time": "2022-12-15T16:36:11.641125Z",
     "start_time": "2022-12-15T16:36:11.625453Z"
    }
   },
   "outputs": [],
   "source": [
    "df.drop(['maxtempC', 'mintempC', 'season'], inplace=True, axis=1)"
   ]
  },
  {
   "cell_type": "code",
   "execution_count": 8,
   "id": "af55a64d",
   "metadata": {
    "ExecuteTime": {
     "end_time": "2022-12-15T16:36:11.925324Z",
     "start_time": "2022-12-15T16:36:11.641125Z"
    }
   },
   "outputs": [],
   "source": [
    "# converting to categorical\n",
    "df['is_holiday'] = df['is_holiday'].astype('category')\n",
    "df['is_weekend'] = df['is_weekend'].astype('category')\n",
    "df['year'] = df['year'].astype('category')\n",
    "df['month'] = df['month'].astype('category')\n",
    "df['day'] = df['day'].astype('category')\n",
    "df['hour'] = df['hour'].astype('category')\n",
    "weekday_dict = {\"Monday\": 1,\n",
    "                \"Tuesday\": 2,\n",
    "                \"Wednesday\": 3,\n",
    "                \"Thursday\": 4,\n",
    "                \"Friday\": 5,\n",
    "                \"Saturday\": 6,\n",
    "                \"Sunday\": 7}\n",
    "df['week_day'] = df['week_day'].apply(lambda x: weekday_dict[x])\n",
    "df['week_day'] = df['week_day'].astype('category')"
   ]
  },
  {
   "cell_type": "markdown",
   "id": "69a73da2",
   "metadata": {},
   "source": [
    "# <b><span style='color:#4797ef'>|</span> Data processing for training</b>"
   ]
  },
  {
   "cell_type": "code",
   "execution_count": 9,
   "id": "8c136c73",
   "metadata": {
    "ExecuteTime": {
     "end_time": "2022-12-15T16:36:16.333227Z",
     "start_time": "2022-12-15T16:36:11.925324Z"
    }
   },
   "outputs": [],
   "source": [
    "from sklearn.model_selection import train_test_split\n",
    "from sklearn.feature_extraction import DictVectorizer\n",
    "\n",
    "from sklearn.preprocessing import MinMaxScaler\n",
    "\n",
    "from sklearn.decomposition import PCA, IncrementalPCA\n",
    "from sklearn.metrics import r2_score"
   ]
  },
  {
   "cell_type": "markdown",
   "id": "618d0358",
   "metadata": {},
   "source": [
    "## Train-test Split"
   ]
  },
  {
   "cell_type": "code",
   "execution_count": 10,
   "id": "89335a80",
   "metadata": {
    "ExecuteTime": {
     "end_time": "2022-12-15T16:36:16.348852Z",
     "start_time": "2022-12-15T16:36:16.333227Z"
    }
   },
   "outputs": [],
   "source": [
    "df_train, df_test = train_test_split(df.drop(\"date\", axis=1), test_size=.2, random_state=1)"
   ]
  },
  {
   "cell_type": "code",
   "execution_count": 11,
   "id": "95f71bf8",
   "metadata": {
    "ExecuteTime": {
     "end_time": "2022-12-15T16:36:16.832244Z",
     "start_time": "2022-12-15T16:36:16.364483Z"
    }
   },
   "outputs": [
    {
     "name": "stderr",
     "output_type": "stream",
     "text": [
      "C:\\Users\\hugom\\AppData\\Local\\Temp\\ipykernel_3540\\2492945053.py:4: FutureWarning: The series.append method is deprecated and will be removed from pandas in a future version. Use pandas.concat instead.\n",
      "  y = y_train.append(y_test, ignore_index = True)\n"
     ]
    }
   ],
   "source": [
    "y_train, y_test = df_train['number_of_rides'], df_test['number_of_rides']\n",
    "for df_ in [df_train, df_test]:\n",
    "    del df_['number_of_rides'] \n",
    "y = y_train.append(y_test, ignore_index = True)"
   ]
  },
  {
   "cell_type": "markdown",
   "id": "0e1e3f76",
   "metadata": {},
   "source": [
    "## One-hot encoding"
   ]
  },
  {
   "cell_type": "code",
   "execution_count": 12,
   "id": "18089422",
   "metadata": {
    "ExecuteTime": {
     "end_time": "2022-12-15T16:36:17.274204Z",
     "start_time": "2022-12-15T16:36:16.838227Z"
    }
   },
   "outputs": [],
   "source": [
    "# Creating dummy variables for the categorical features(One Hot Encoding)\n",
    "train_dict = df_train.to_dict(orient='records')\n",
    "test_dict = df_test.to_dict(orient='records')"
   ]
  },
  {
   "cell_type": "code",
   "execution_count": 13,
   "id": "4f7d1d89",
   "metadata": {
    "ExecuteTime": {
     "end_time": "2022-12-15T16:36:17.606743Z",
     "start_time": "2022-12-15T16:36:17.278155Z"
    }
   },
   "outputs": [
    {
     "data": {
      "text/plain": [
       "DictVectorizer(sparse=False)"
      ]
     },
     "execution_count": 13,
     "metadata": {},
     "output_type": "execute_result"
    }
   ],
   "source": [
    "# sparse - is a matrix that is comprised of mostly zero values.\n",
    "dv = DictVectorizer(sparse=False)\n",
    "dv.fit(train_dict)"
   ]
  },
  {
   "cell_type": "code",
   "execution_count": 14,
   "id": "cb25522b",
   "metadata": {
    "ExecuteTime": {
     "end_time": "2022-12-15T16:36:17.941153Z",
     "start_time": "2022-12-15T16:36:17.613746Z"
    }
   },
   "outputs": [],
   "source": [
    "X_train = dv.transform(train_dict)\n",
    "X_test = dv.transform(test_dict)\n",
    "X = np.concatenate((X_train, X_test))"
   ]
  },
  {
   "cell_type": "code",
   "execution_count": 15,
   "id": "80324f44",
   "metadata": {
    "ExecuteTime": {
     "end_time": "2022-12-15T16:36:18.350625Z",
     "start_time": "2022-12-15T16:36:17.946120Z"
    }
   },
   "outputs": [
    {
     "name": "stderr",
     "output_type": "stream",
     "text": [
      "C:\\Users\\hugom\\anaconda3\\lib\\site-packages\\sklearn\\utils\\deprecation.py:87: FutureWarning: Function get_feature_names is deprecated; get_feature_names is deprecated in 1.0 and will be removed in 1.2. Please use get_feature_names_out instead.\n",
      "  warnings.warn(msg, category=FutureWarning)\n"
     ]
    },
    {
     "data": {
      "text/plain": [
       "['FeelsLikeC',\n",
       " 'cloudcover',\n",
       " 'day',\n",
       " 'hour',\n",
       " 'humidity',\n",
       " 'is_holiday',\n",
       " 'is_weekend',\n",
       " 'month',\n",
       " 'pressure',\n",
       " 'visibility',\n",
       " 'week_day',\n",
       " 'windspeedKmph',\n",
       " 'year']"
      ]
     },
     "execution_count": 15,
     "metadata": {},
     "output_type": "execute_result"
    }
   ],
   "source": [
    "dv.get_feature_names()"
   ]
  },
  {
   "cell_type": "markdown",
   "id": "b8e74102",
   "metadata": {},
   "source": [
    "## Feature Scaling"
   ]
  },
  {
   "cell_type": "code",
   "execution_count": 16,
   "id": "4d13bbaa",
   "metadata": {
    "ExecuteTime": {
     "end_time": "2022-12-15T16:36:18.699535Z",
     "start_time": "2022-12-15T16:36:18.355634Z"
    }
   },
   "outputs": [
    {
     "data": {
      "text/plain": [
       "MinMaxScaler()"
      ]
     },
     "execution_count": 16,
     "metadata": {},
     "output_type": "execute_result"
    }
   ],
   "source": [
    "min_max = MinMaxScaler()\n",
    "min_max.fit(X_train)"
   ]
  },
  {
   "cell_type": "code",
   "execution_count": 17,
   "id": "ed2bb14b",
   "metadata": {
    "ExecuteTime": {
     "end_time": "2022-12-15T16:36:19.039000Z",
     "start_time": "2022-12-15T16:36:18.703519Z"
    }
   },
   "outputs": [],
   "source": [
    "X_train_scaled = min_max.transform(X_train)\n",
    "X_test_scaled = min_max.transform(X_test)\n",
    "X_scaled = np.concatenate((X_train_scaled, X_test_scaled))"
   ]
  },
  {
   "cell_type": "markdown",
   "id": "695f3432",
   "metadata": {},
   "source": [
    "## Dimensionality Reduction PCA "
   ]
  },
  {
   "cell_type": "code",
   "execution_count": 18,
   "id": "936da803",
   "metadata": {
    "ExecuteTime": {
     "end_time": "2022-12-15T16:36:19.602202Z",
     "start_time": "2022-12-15T16:36:19.044002Z"
    }
   },
   "outputs": [
    {
     "data": {
      "text/plain": [
       "PCA(random_state=1)"
      ]
     },
     "execution_count": 18,
     "metadata": {},
     "output_type": "execute_result"
    }
   ],
   "source": [
    "pca = PCA(random_state=1)\n",
    "\n",
    "pca.fit(X_train_scaled)"
   ]
  },
  {
   "cell_type": "code",
   "execution_count": 19,
   "id": "76b1f8fa",
   "metadata": {
    "ExecuteTime": {
     "end_time": "2022-12-15T16:36:19.682200Z",
     "start_time": "2022-12-15T16:36:19.605206Z"
    }
   },
   "outputs": [],
   "source": [
    "var_cumulative = np.cumsum(pca.explained_variance_ratio_)"
   ]
  },
  {
   "cell_type": "code",
   "execution_count": 20,
   "id": "997f5c81",
   "metadata": {
    "ExecuteTime": {
     "end_time": "2022-12-15T16:36:20.569760Z",
     "start_time": "2022-12-15T16:36:19.684203Z"
    }
   },
   "outputs": [
    {
     "name": "stderr",
     "output_type": "stream",
     "text": [
      "C:\\Users\\hugom\\AppData\\Local\\Temp\\ipykernel_3540\\714522965.py:3: UserWarning: Ignoring `palette` because no `hue` variable has been assigned.\n",
      "  sns.lineplot(var_cumulative,\n"
     ]
    },
    {
     "data": {
      "image/png": "[encoded data removed]",
      "text/plain": [
       "<Figure size 1600x800 with 1 Axes>"
      ]
     },
     "metadata": {},
     "output_type": "display_data"
    }
   ],
   "source": [
    "plt.figure(figsize=[16,8])\n",
    "\n",
    "sns.lineplot(var_cumulative,\n",
    "             marker='o',\n",
    "             palette=[\"#00ce96\", \"#2a709a\"])\n",
    "plt.axvline(8, color=\"#ffd600\", linestyle='--', linewidth='3')\n",
    "plt.axhline(0.95, color=\"#00ce96\", linestyle='--', linewidth='3')\n",
    "\n",
    "plt.title(\"Scree Plot\", size=20, color=\"#0b0c10\")\n",
    "plt.xlabel(\"Number of variables\\n\", size=16)\n",
    "plt.ylabel(\"Cumulative Variance Explained\\n\", size=16)\n",
    "plt.xticks(size=12)\n",
    "plt.yticks(size=12)\n",
    "plt.xlim(0, 14)\n",
    "\n",
    "plt.savefig(\"../imgs/pca_plot.png\", transparent=True)\n",
    "plt.show()"
   ]
  },
  {
   "cell_type": "markdown",
   "id": "5c0612f3",
   "metadata": {},
   "source": [
    "From the Scree Plot we are able to see that almost 95% of the variance is being explained by 11 variables. Therefore, we are going to use IncrementalPCA from Scikit Learn now to transform only 8 variables."
   ]
  },
  {
   "cell_type": "code",
   "execution_count": 21,
   "id": "06603e5f",
   "metadata": {
    "ExecuteTime": {
     "end_time": "2022-12-15T16:36:21.383690Z",
     "start_time": "2022-12-15T16:36:20.571908Z"
    }
   },
   "outputs": [],
   "source": [
    "pca_final = IncrementalPCA(n_components=11) # Specifying the n_components to 17 as per Scree Plot\n",
    "\n",
    "df_pca = pca_final.fit_transform(X_scaled) # Always fit_transform() on train data\n",
    "\n",
    "df_train_pca = pca_final.fit_transform(X_train_scaled) # Always fit_transform() on train data\n",
    "\n",
    "df_test_pca = pca_final.transform(X_test_scaled)# Always transform() on test data"
   ]
  },
  {
   "cell_type": "markdown",
   "id": "4ad25f0a",
   "metadata": {},
   "source": [
    "# <b><span style='color:#4797ef'>|</span> Modelling</b>"
   ]
  },
  {
   "cell_type": "markdown",
   "id": "139fa1be",
   "metadata": {},
   "source": [
    "## Performance tuning (hyperparameters) Bagging+Boosting"
   ]
  },
  {
   "cell_type": "code",
   "execution_count": 22,
   "id": "ebb6eb1c",
   "metadata": {
    "ExecuteTime": {
     "end_time": "2022-12-15T16:36:24.863522Z",
     "start_time": "2022-12-15T16:36:21.385690Z"
    }
   },
   "outputs": [],
   "source": [
    "from sklearn.model_selection import RandomizedSearchCV\n",
    "\n",
    "from sklearn.tree import DecisionTreeRegressor\n",
    "from sklearn.ensemble import RandomForestRegressor\n",
    "from sklearn.ensemble import ExtraTreesRegressor\n",
    "from xgboost import XGBRegressor\n",
    "\n",
    "from sklearn.model_selection import KFold\n",
    "\n",
    "from sklearn.metrics import (\n",
    "    r2_score, mean_absolute_error, mean_squared_error)"
   ]
  },
  {
   "cell_type": "code",
   "execution_count": 23,
   "id": "f3dc8d0c",
   "metadata": {
    "ExecuteTime": {
     "end_time": "2022-12-15T16:36:24.879535Z",
     "start_time": "2022-12-15T16:36:24.865508Z"
    }
   },
   "outputs": [],
   "source": [
    "dt_reg = DecisionTreeRegressor()\n",
    "rf_reg = RandomForestRegressor()\n",
    "etr_reg = ExtraTreesRegressor()\n",
    "xgb_reg = XGBRegressor()"
   ]
  },
  {
   "cell_type": "code",
   "execution_count": 24,
   "id": "89075309",
   "metadata": {
    "ExecuteTime": {
     "end_time": "2022-12-15T16:36:25.130894Z",
     "start_time": "2022-12-15T16:36:24.881512Z"
    }
   },
   "outputs": [],
   "source": [
    "def evaluate_models(X):\n",
    "    kfold = KFold(n_splits=5, shuffle=True, random_state=1)\n",
    "    scores = dict()\n",
    "\n",
    "    for reg in [dt_reg, rf_reg, etr_reg, xgb_reg]:\n",
    "        reg_list = []\n",
    "        for train_idxs, test_idxs in kfold.split(X):\n",
    "            X_train, X_test = X[train_idxs], X[test_idxs]\n",
    "            y_train, y_test = y[train_idxs], y[test_idxs]\n",
    "\n",
    "            reg.fit(X_train, y_train)\n",
    "            y_pred = reg.predict(X_test)\n",
    "            reg_list.append(r2_score(y_test, y_pred))\n",
    "        scores[reg.__class__.__name__] = reg_list\n",
    "    for key in scores.keys():\n",
    "        print(f'{key}' + ' ' +\n",
    "              f'{np.mean(scores[key]):.3f} +- {np.std(scores[key]):.3f}')"
   ]
  },
  {
   "cell_type": "code",
   "execution_count": 25,
   "id": "a01bd0d2",
   "metadata": {
    "ExecuteTime": {
     "end_time": "2022-12-15T16:37:08.332904Z",
     "start_time": "2022-12-15T16:36:25.132892Z"
    }
   },
   "outputs": [
    {
     "name": "stdout",
     "output_type": "stream",
     "text": [
      "DecisionTreeRegressor 0.887 +- 0.008\n",
      "RandomForestRegressor 0.943 +- 0.005\n",
      "ExtraTreesRegressor 0.953 +- 0.004\n",
      "XGBRegressor 0.958 +- 0.003\n"
     ]
    }
   ],
   "source": [
    "# simple X\n",
    "evaluate_models(X)"
   ]
  },
  {
   "cell_type": "code",
   "execution_count": 26,
   "id": "d7681724",
   "metadata": {
    "ExecuteTime": {
     "end_time": "2022-12-15T16:37:50.450709Z",
     "start_time": "2022-12-15T16:37:08.335762Z"
    }
   },
   "outputs": [
    {
     "name": "stdout",
     "output_type": "stream",
     "text": [
      "DecisionTreeRegressor 0.884 +- 0.008\n",
      "RandomForestRegressor 0.944 +- 0.005\n",
      "ExtraTreesRegressor 0.953 +- 0.003\n",
      "XGBRegressor 0.958 +- 0.003\n"
     ]
    }
   ],
   "source": [
    "# scaled X\n",
    "evaluate_models(X_scaled)"
   ]
  },
  {
   "cell_type": "code",
   "execution_count": 27,
   "id": "f5da5d49",
   "metadata": {
    "ExecuteTime": {
     "end_time": "2022-12-15T16:39:00.312270Z",
     "start_time": "2022-12-15T16:37:50.450709Z"
    }
   },
   "outputs": [
    {
     "name": "stdout",
     "output_type": "stream",
     "text": [
      "DecisionTreeRegressor 0.723 +- 0.017\n",
      "RandomForestRegressor 0.882 +- 0.004\n",
      "ExtraTreesRegressor 0.910 +- 0.004\n",
      "XGBRegressor 0.861 +- 0.007\n"
     ]
    }
   ],
   "source": [
    "# scaled and redundant X\n",
    "evaluate_models(df_pca)"
   ]
  },
  {
   "cell_type": "markdown",
   "id": "c78b095a",
   "metadata": {},
   "source": [
    "R2 became smaller after applying PCA, let's stop at the scaling step.  \n",
    "Let's choose **XGBRegressor** as our model"
   ]
  },
  {
   "cell_type": "code",
   "execution_count": 28,
   "id": "1c27c028",
   "metadata": {
    "ExecuteTime": {
     "end_time": "2022-12-15T16:39:00.331971Z",
     "start_time": "2022-12-15T16:39:00.312270Z"
    }
   },
   "outputs": [
    {
     "name": "stdout",
     "output_type": "stream",
     "text": [
      "{'n_estimators': [100, 200, 300, 400, 500, 600, 700, 800, 900, 1000], 'max_depth': [6, 12, 18, 24, 30], 'learning_rate': [0.001, 0.002, 0.003, 0.004, 0.005, 0.006, 0.007, 0.008, 0.009000000000000001, 0.010000000000000002, 0.011, 0.012, 0.013000000000000001, 0.014000000000000002, 0.015, 0.016, 0.017, 0.018000000000000002, 0.019000000000000003, 0.02, 0.021, 0.022000000000000002, 0.023, 0.024, 0.025, 0.026000000000000002, 0.027000000000000003, 0.028, 0.029, 0.030000000000000002, 0.031, 0.032, 0.033, 0.034, 0.035, 0.036000000000000004, 0.037000000000000005, 0.038, 0.039, 0.04, 0.041, 0.042, 0.043000000000000003, 0.044000000000000004, 0.045, 0.046, 0.047, 0.048, 0.049, 0.05, 0.051000000000000004, 0.052000000000000005, 0.053000000000000005, 0.054, 0.055, 0.056, 0.057, 0.058, 0.059000000000000004, 0.060000000000000005, 0.061, 0.062, 0.063, 0.064, 0.065, 0.066, 0.067, 0.068, 0.069, 0.07, 0.07100000000000001, 0.07200000000000001, 0.07300000000000001, 0.074, 0.075, 0.076, 0.077, 0.078, 0.079, 0.08, 0.081, 0.082, 0.083, 0.084, 0.085, 0.08600000000000001, 0.08700000000000001, 0.08800000000000001, 0.089, 0.09, 0.091, 0.092, 0.093, 0.094, 0.095, 0.096, 0.097, 0.098, 0.099, 0.1, 0.101, 0.10200000000000001, 0.10300000000000001, 0.10400000000000001, 0.10500000000000001, 0.106, 0.107, 0.108, 0.109, 0.11, 0.111, 0.112, 0.113, 0.114, 0.115, 0.116, 0.117, 0.11800000000000001, 0.11900000000000001, 0.12000000000000001, 0.121, 0.122, 0.123, 0.124, 0.125, 0.126, 0.127, 0.128, 0.129, 0.13, 0.131, 0.132, 0.133, 0.134, 0.135, 0.136, 0.137, 0.138, 0.139, 0.14, 0.14100000000000001, 0.14200000000000002, 0.14300000000000002, 0.14400000000000002, 0.14500000000000002, 0.146, 0.147, 0.148, 0.149, 0.15, 0.151, 0.152, 0.153, 0.154, 0.155, 0.156, 0.157, 0.158, 0.159, 0.16, 0.161, 0.162, 0.163, 0.164, 0.165, 0.166, 0.167, 0.168, 0.169, 0.17, 0.171, 0.17200000000000001, 0.17300000000000001, 0.17400000000000002, 0.17500000000000002, 0.17600000000000002, 0.177, 0.178, 0.179, 0.18, 0.181, 0.182, 0.183, 0.184, 0.185, 0.186, 0.187, 0.188, 0.189, 0.19, 0.191, 0.192, 0.193, 0.194, 0.195, 0.196, 0.197, 0.198, 0.199, 0.2, 0.201, 0.202, 0.203, 0.20400000000000001, 0.20500000000000002, 0.20600000000000002, 0.20700000000000002, 0.20800000000000002, 0.20900000000000002, 0.21, 0.211, 0.212, 0.213, 0.214, 0.215, 0.216, 0.217, 0.218, 0.219, 0.22, 0.221, 0.222, 0.223, 0.224, 0.225, 0.226, 0.227, 0.228, 0.229, 0.23, 0.231, 0.232, 0.233, 0.234, 0.23500000000000001, 0.23600000000000002, 0.23700000000000002, 0.23800000000000002, 0.23900000000000002, 0.24000000000000002, 0.241, 0.242, 0.243, 0.244, 0.245, 0.246, 0.247, 0.248, 0.249, 0.25, 0.251, 0.252, 0.253, 0.254, 0.255, 0.256, 0.257, 0.258, 0.259, 0.26, 0.261, 0.262, 0.263, 0.264, 0.265, 0.266, 0.267, 0.268, 0.269, 0.27, 0.271, 0.272, 0.273, 0.274, 0.275, 0.276, 0.277, 0.278, 0.279, 0.28, 0.281, 0.28200000000000003, 0.28300000000000003, 0.28400000000000003, 0.28500000000000003, 0.28600000000000003, 0.28700000000000003, 0.28800000000000003, 0.28900000000000003, 0.29, 0.291, 0.292, 0.293, 0.294, 0.295, 0.296, 0.297, 0.298, 0.299, 0.3, 0.301, 0.302, 0.303, 0.304, 0.305, 0.306, 0.307, 0.308, 0.309, 0.31, 0.311, 0.312, 0.313, 0.314, 0.315, 0.316, 0.317, 0.318, 0.319, 0.32, 0.321, 0.322, 0.323, 0.324, 0.325, 0.326, 0.327, 0.328, 0.329, 0.33, 0.331, 0.332, 0.333, 0.334, 0.335, 0.336, 0.337, 0.338, 0.339, 0.34, 0.341, 0.342, 0.343, 0.34400000000000003, 0.34500000000000003, 0.34600000000000003, 0.34700000000000003, 0.34800000000000003, 0.34900000000000003, 0.35000000000000003, 0.35100000000000003, 0.35200000000000004, 0.353, 0.354, 0.355, 0.356, 0.357, 0.358, 0.359, 0.36, 0.361, 0.362, 0.363, 0.364, 0.365, 0.366, 0.367, 0.368, 0.369, 0.37, 0.371, 0.372, 0.373, 0.374, 0.375, 0.376, 0.377, 0.378, 0.379, 0.38, 0.381, 0.382, 0.383, 0.384, 0.385, 0.386, 0.387, 0.388, 0.389, 0.39, 0.391, 0.392, 0.393, 0.394, 0.395, 0.396, 0.397, 0.398, 0.399], 'min_child_weight': [1, 2, 3, 4, 5, 6, 7, 8, 9]}\n"
     ]
    }
   ],
   "source": [
    "n_estimators = [int(x) for x in np.linspace(100, 1000, 10)]\n",
    "\n",
    "max_depth = [int(x) for x in np.linspace(6, 30, 5)]\n",
    "\n",
    "learning_rate = [x for x in np.arange(0.001, 0.4, 0.001)]\n",
    "\n",
    "# how many observations we need to have in a leaf node\n",
    "min_child_weight = list(range(1, 10))\n",
    "\n",
    "xg_grid = dict(n_estimators=n_estimators, max_depth=max_depth, learning_rate=learning_rate,\n",
    "               min_child_weight=min_child_weight)\n",
    "print(xg_grid)"
   ]
  },
  {
   "cell_type": "code",
   "execution_count": 29,
   "id": "c0d73240",
   "metadata": {
    "ExecuteTime": {
     "end_time": "2022-12-15T16:43:43.320507Z",
     "start_time": "2022-12-15T16:39:00.331971Z"
    }
   },
   "outputs": [
    {
     "name": "stdout",
     "output_type": "stream",
     "text": [
      "Fitting 5 folds for each of 20 candidates, totalling 100 fits\n"
     ]
    },
    {
     "data": {
      "text/plain": [
       "RandomizedSearchCV(cv=5,\n",
       "                   estimator=XGBRegressor(base_score=0.5, booster='gbtree',\n",
       "                                          callbacks=None, colsample_bylevel=1,\n",
       "                                          colsample_bynode=1,\n",
       "                                          colsample_bytree=1,\n",
       "                                          early_stopping_rounds=None,\n",
       "                                          enable_categorical=False,\n",
       "                                          eval_metric=None, feature_types=None,\n",
       "                                          gamma=0, gpu_id=-1,\n",
       "                                          grow_policy='depthwise',\n",
       "                                          importance_type=None,\n",
       "                                          interaction_constraints='',\n",
       "                                          learning_rate=0.3000...\n",
       "                                                          0.015, 0.016, 0.017,\n",
       "                                                          0.018000000000000002,\n",
       "                                                          0.019000000000000003,\n",
       "                                                          0.02, 0.021,\n",
       "                                                          0.022000000000000002,\n",
       "                                                          0.023, 0.024, 0.025,\n",
       "                                                          0.026000000000000002,\n",
       "                                                          0.027000000000000003,\n",
       "                                                          0.028, 0.029,\n",
       "                                                          0.030000000000000002, ...],\n",
       "                                        'max_depth': [6, 12, 18, 24, 30],\n",
       "                                        'min_child_weight': [1, 2, 3, 4, 5, 6,\n",
       "                                                             7, 8, 9],\n",
       "                                        'n_estimators': [100, 200, 300, 400,\n",
       "                                                         500, 600, 700, 800,\n",
       "                                                         900, 1000]},\n",
       "                   random_state=1, scoring='r2', verbose=1)"
      ]
     },
     "execution_count": 29,
     "metadata": {},
     "output_type": "execute_result"
    }
   ],
   "source": [
    "xgb_random = RandomizedSearchCV(xgb_reg, param_distributions=xg_grid, cv=5,\n",
    "                                n_iter=20, random_state=1, scoring=\"r2\", n_jobs=-1, verbose=1)\n",
    "xgb_random.fit(X_train_scaled, y_train)"
   ]
  },
  {
   "cell_type": "code",
   "execution_count": 30,
   "id": "11f92403",
   "metadata": {
    "ExecuteTime": {
     "end_time": "2022-12-15T16:43:43.351754Z",
     "start_time": "2022-12-15T16:43:43.320507Z"
    }
   },
   "outputs": [],
   "source": [
    "y_pred_xgb = xgb_random.predict(X_test_scaled)"
   ]
  },
  {
   "cell_type": "code",
   "execution_count": 31,
   "id": "fd6334ac",
   "metadata": {
    "ExecuteTime": {
     "end_time": "2022-12-15T16:43:43.476755Z",
     "start_time": "2022-12-15T16:43:43.351754Z"
    },
    "scrolled": true
   },
   "outputs": [
    {
     "name": "stdout",
     "output_type": "stream",
     "text": [
      "R2 score:  0.9633428072681408\n",
      "best_params: \n",
      " {'n_estimators': 900, 'min_child_weight': 2, 'max_depth': 6, 'learning_rate': 0.23}\n"
     ]
    }
   ],
   "source": [
    "print(\"R2 score: \",xgb_random.best_score_)\n",
    "print(\"best_params: \\n\",xgb_random.best_params_)"
   ]
  },
  {
   "cell_type": "markdown",
   "id": "731637a9",
   "metadata": {},
   "source": [
    "## Time series forecasting using LSTM"
   ]
  },
  {
   "cell_type": "code",
   "execution_count": 32,
   "id": "6417fa31",
   "metadata": {
    "ExecuteTime": {
     "end_time": "2022-12-15T16:44:17.491260Z",
     "start_time": "2022-12-15T16:43:43.476755Z"
    }
   },
   "outputs": [],
   "source": [
    "from tqdm import tqdm_notebook as tqdm\n",
    "from keras.preprocessing import sequence\n",
    "\n",
    "from keras.models import Sequential\n",
    "from tensorflow.keras import regularizers\n",
    "from keras.layers import Dense, Dropout , LSTM , Bidirectional "
   ]
  },
  {
   "cell_type": "code",
   "execution_count": 33,
   "id": "df24b9f5",
   "metadata": {
    "ExecuteTime": {
     "end_time": "2022-12-15T16:44:17.506843Z",
     "start_time": "2022-12-15T16:44:17.491260Z"
    }
   },
   "outputs": [],
   "source": [
    "prediction_days = 90"
   ]
  },
  {
   "cell_type": "code",
   "execution_count": 34,
   "id": "48efdf25",
   "metadata": {
    "ExecuteTime": {
     "end_time": "2022-12-15T16:44:17.681376Z",
     "start_time": "2022-12-15T16:44:17.506843Z"
    }
   },
   "outputs": [
    {
     "name": "stdout",
     "output_type": "stream",
     "text": [
      "(16749, 15) (16659, 15) (90, 15)\n"
     ]
    }
   ],
   "source": [
    "df_train = df[:-prediction_days]\n",
    "df_test = df[-prediction_days:]\n",
    "# .drop(columns='number_of_rides'\n",
    "print(df.shape, df_train.shape, df_test.shape)"
   ]
  },
  {
   "cell_type": "code",
   "execution_count": 35,
   "id": "164e2207",
   "metadata": {
    "ExecuteTime": {
     "end_time": "2022-12-15T16:44:17.836956Z",
     "start_time": "2022-12-15T16:44:17.681376Z"
    }
   },
   "outputs": [],
   "source": [
    "scaler = MinMaxScaler(feature_range=(0, 1))\n",
    "\n",
    "scaled_target = scaler.fit_transform(\n",
    "    df['number_of_rides'].values.reshape(-1, 1))"
   ]
  },
  {
   "cell_type": "code",
   "execution_count": 36,
   "id": "834c0d44",
   "metadata": {
    "ExecuteTime": {
     "end_time": "2022-12-15T16:44:18.054596Z",
     "start_time": "2022-12-15T16:44:17.842875Z"
    }
   },
   "outputs": [
    {
     "name": "stdout",
     "output_type": "stream",
     "text": [
      "(16749, 1) (16659, 1) (90, 1)\n"
     ]
    }
   ],
   "source": [
    "train_target = scaled_target[:-prediction_days]\n",
    "test_target = scaled_target[-prediction_days:]\n",
    "\n",
    "print(scaled_target.shape, train_target.shape, test_target.shape)"
   ]
  },
  {
   "cell_type": "code",
   "execution_count": 37,
   "id": "d71d3a96",
   "metadata": {
    "ExecuteTime": {
     "end_time": "2022-12-15T16:44:18.416703Z",
     "start_time": "2022-12-15T16:44:18.060613Z"
    },
    "scrolled": true
   },
   "outputs": [
    {
     "name": "stderr",
     "output_type": "stream",
     "text": [
      "C:\\Users\\hugom\\AppData\\Local\\Temp\\ipykernel_3540\\432406926.py:5: TqdmDeprecationWarning: This function will be removed in tqdm==5.0.0\n",
      "Please use `tqdm.notebook.tqdm` instead of `tqdm.tqdm_notebook`\n",
      "  for i in tqdm(range(prediction_days, len(train_target))):\n"
     ]
    },
    {
     "data": {
      "application/vnd.jupyter.widget-view+json": {
       "model_id": "84965200720a4201abcfddfc656abdc0",
       "version_major": 2,
       "version_minor": 0
      },
      "text/plain": [
       "  0%|          | 0/16569 [00:00<?, ?it/s]"
      ]
     },
     "metadata": {},
     "output_type": "display_data"
    }
   ],
   "source": [
    "# Split the data into x_train and y_train data sets\n",
    "x_train = []\n",
    "y_train = []\n",
    "\n",
    "for i in tqdm(range(prediction_days, len(train_target))):\n",
    "    x_train.append(train_target[i-prediction_days:i, 0])\n",
    "    y_train.append(train_target[i, 0])\n",
    "\n",
    "# Convert x_train and y_train to numpy arrays\n",
    "x_train, y_train = np.array(x_train), np.array(y_train)\n",
    "x_train = np.reshape(x_train, (x_train.shape[0], x_train.shape[1], 1))"
   ]
  },
  {
   "cell_type": "markdown",
   "id": "697e4e5e",
   "metadata": {},
   "source": [
    "After scaling all the values in the data set between 0 and 1, I specify the number of days to predict. After this value, I separate the data as x_train and y_train. With the value of 90 we have given, the model will work in such a way that it examines 90 data and predicts the next one, then examines 90 data again and tries to predict the next one."
   ]
  },
  {
   "cell_type": "code",
   "execution_count": 38,
   "id": "ab7fec68",
   "metadata": {
    "ExecuteTime": {
     "end_time": "2022-12-15T16:44:18.447927Z",
     "start_time": "2022-12-15T16:44:18.416703Z"
    }
   },
   "outputs": [
    {
     "name": "stderr",
     "output_type": "stream",
     "text": [
      "C:\\Users\\hugom\\AppData\\Local\\Temp\\ipykernel_3540\\1365628269.py:6: TqdmDeprecationWarning: This function will be removed in tqdm==5.0.0\n",
      "Please use `tqdm.notebook.tqdm` instead of `tqdm.tqdm_notebook`\n",
      "  for x in  tqdm(range(prediction_days, len(model_inputs))):\n"
     ]
    },
    {
     "data": {
      "application/vnd.jupyter.widget-view+json": {
       "model_id": "7a86fefb3b18458b9030373398ecd135",
       "version_major": 2,
       "version_minor": 0
      },
      "text/plain": [
       "  0%|          | 0/90 [00:00<?, ?it/s]"
      ]
     },
     "metadata": {},
     "output_type": "display_data"
    }
   ],
   "source": [
    "model_inputs = scaled_target[len(scaled_target)-len(test_target)-prediction_days:]\n",
    "\n",
    "# Create the x_test and y_test data sets\n",
    "x_test = []\n",
    "\n",
    "for x in  tqdm(range(prediction_days, len(model_inputs))):\n",
    "    x_test.append(model_inputs[x-prediction_days:x, 0])\n",
    "\n",
    "# Convert x_test to numpy array\n",
    "x_test = np.array(x_test)\n",
    "x_test = np.reshape(x_test, (x_test.shape[0], x_test.shape[1], 1))"
   ]
  },
  {
   "cell_type": "markdown",
   "id": "1a2e654a",
   "metadata": {},
   "source": [
    "**Guide to build LSTM model**\n",
    "1. Reduce the number of units in your LSTM. Start from there. Reach a point where your model stops overfitting.\n",
    "\n",
    "2. Then, add dropout if required.\n",
    "\n",
    "3. After that, the next step is to add the tf.keras.Bidirectional. If still, you are not satfisfied then, increase number of layers. Remember to keep return_sequences True for every LSTM layer except the last one.\n",
    "\n",
    "It is seldom I come across networks using layer regularization despite the availability because dropout and layer regularization have a same effect and people usually go with dropout (at maximum, I have seen 0.3 being used)."
   ]
  },
  {
   "cell_type": "code",
   "execution_count": 39,
   "id": "8f91237d",
   "metadata": {
    "ExecuteTime": {
     "end_time": "2022-12-15T16:44:18.869795Z",
     "start_time": "2022-12-15T16:44:18.447927Z"
    }
   },
   "outputs": [],
   "source": [
    "model = Sequential()\n",
    "\n",
    "model.add(LSTM(units=128, activation='relu', return_sequences=True, input_shape = (x_train.shape[1],1)))\n",
    "model.add(Dropout(0.2))\n",
    "model.add(LSTM(units=128, activation='relu', return_sequences=True))\n",
    "model.add(Dropout(0.2))\n",
    "model.add(LSTM(units=128, activation='relu', return_sequences=False))\n",
    "model.add(Dropout(0.2))\n",
    "model.add(Dense(units=1)) # Prediction of the next value"
   ]
  },
  {
   "cell_type": "code",
   "execution_count": 40,
   "id": "2d3e43eb",
   "metadata": {
    "ExecuteTime": {
     "end_time": "2022-12-15T16:50:32.750496Z",
     "start_time": "2022-12-15T16:44:18.869795Z"
    },
    "scrolled": true
   },
   "outputs": [
    {
     "name": "stdout",
     "output_type": "stream",
     "text": [
      "Epoch 1/5\n",
      "466/466 [==============================] - 77s 160ms/step - loss: 0.0279 - val_loss: 0.0183\n",
      "Epoch 2/5\n",
      "466/466 [==============================] - 74s 159ms/step - loss: 0.0201 - val_loss: 0.0177\n",
      "Epoch 3/5\n",
      "466/466 [==============================] - 74s 160ms/step - loss: 0.0194 - val_loss: 0.0175\n",
      "Epoch 4/5\n",
      "466/466 [==============================] - 74s 160ms/step - loss: 0.0189 - val_loss: 0.0171\n",
      "Epoch 5/5\n",
      "466/466 [==============================] - 74s 159ms/step - loss: 0.0185 - val_loss: 0.0160\n"
     ]
    }
   ],
   "source": [
    "model.compile(optimizer='adam', loss='mean_squared_error')\n",
    "\n",
    "history = model.fit(x_train, y_train, epochs=5,\n",
    "                    batch_size=32, validation_split=0.1)"
   ]
  },
  {
   "cell_type": "markdown",
   "id": "351d065b",
   "metadata": {},
   "source": [
    "In this step, we set up our model, since it is a basic neural network, we set up a Sequential model directly. Here, after choosing LSTM layers, I applied Dropout to increase efficiency and eliminate useless nodes, so that after each LSTM layer, I didn’t move with the worst-performing nodes to the next step. Here I have eliminated 20% of the total number of nodes.\n",
    "\n",
    "Attention here!!! We have to give the input_shape value to our first LSTM layer, because our model does not know the size of the data it will process, we do not need to enter this value in the next steps. In the last step, I returned a single value with the Dense layer, so this estimated value will be the average temperature predicted by our model."
   ]
  },
  {
   "cell_type": "code",
   "execution_count": 41,
   "id": "4b7a4052",
   "metadata": {
    "ExecuteTime": {
     "end_time": "2022-12-15T16:50:32.891119Z",
     "start_time": "2022-12-15T16:50:32.750496Z"
    }
   },
   "outputs": [
    {
     "data": {
      "image/png": "[encoded data removed]",
      "text/plain": [
       "<Figure size 640x480 with 1 Axes>"
      ]
     },
     "metadata": {},
     "output_type": "display_data"
    }
   ],
   "source": [
    "plt.plot(history.history['loss'], label = 'Training Loss')\n",
    "plt.plot(history.history['val_loss'], label = 'Validation Loss')\n",
    "plt.legend()\n",
    "plt.show()"
   ]
  },
  {
   "cell_type": "code",
   "execution_count": 42,
   "id": "0caecc7b",
   "metadata": {
    "ExecuteTime": {
     "end_time": "2022-12-15T16:50:33.601906Z",
     "start_time": "2022-12-15T16:50:32.891119Z"
    }
   },
   "outputs": [
    {
     "name": "stdout",
     "output_type": "stream",
     "text": [
      "3/3 [==============================] - 1s 48ms/step\n"
     ]
    }
   ],
   "source": [
    "# Make Predictions on Test Data\n",
    "y_pred = model.predict(x_test)\n",
    "y_pred = scaler.inverse_transform(y_pred)"
   ]
  },
  {
   "cell_type": "code",
   "execution_count": 43,
   "id": "4922f296",
   "metadata": {
    "ExecuteTime": {
     "end_time": "2022-12-15T16:50:33.773813Z",
     "start_time": "2022-12-15T16:50:33.601906Z"
    }
   },
   "outputs": [
    {
     "data": {
      "image/png": "[encoded data removed]",
      "text/plain": [
       "<Figure size 640x480 with 1 Axes>"
      ]
     },
     "metadata": {},
     "output_type": "display_data"
    }
   ],
   "source": [
    "### Visualization ###\n",
    "#####################\n",
    "pred_ = pd.DataFrame(df_test['date'])\n",
    "pred_['number_of_rides'] = y_pred\n",
    "pred_['date'] = pd.to_datetime(pred_['date'])\n",
    "\n",
    "original = df[-270:]\n",
    "\n",
    "sns.lineplot(x=original['date'], y=original['number_of_rides'], label=\"True\")\n",
    "sns.lineplot(x=pred_['date'], y=pred_['number_of_rides'], label=\"Predicted\")\n",
    "plt.show()"
   ]
  },
  {
   "cell_type": "markdown",
   "id": "947197fb",
   "metadata": {},
   "source": [
    "# <b><span style='color:#4797ef'>|</span> Make html</b>"
   ]
  },
  {
   "cell_type": "code",
   "execution_count": 45,
   "id": "8c009de7",
   "metadata": {
    "ExecuteTime": {
     "end_time": "2022-12-15T16:50:42.545426Z",
     "start_time": "2022-12-15T16:50:33.789437Z"
    },
    "scrolled": true
   },
   "outputs": [
    {
     "name": "stderr",
     "output_type": "stream",
     "text": [
      "[NbConvertApp] Converting notebook modelling+tuning.ipynb to html\n",
      "[NbConvertApp] Writing 835997 bytes to modelling+tuning.html\n"
     ]
    }
   ],
   "source": [
    "!jupyter nbconvert --to html \"modelling+tuning.ipynb\""
   ]
  }
 ],
 "metadata": {
  "kernelspec": {
   "display_name": "Python 3 (ipykernel)",
   "language": "python",
   "name": "python3"
  },
  "language_info": {
   "codemirror_mode": {
    "name": "ipython",
    "version": 3
   },
   "file_extension": ".py",
   "mimetype": "text/x-python",
   "name": "python",
   "nbconvert_exporter": "python",
   "pygments_lexer": "ipython3",
   "version": "3.9.13"
  },
  "toc": {
   "base_numbering": 1,
   "nav_menu": {},
   "number_sections": true,
   "sideBar": true,
   "skip_h1_title": false,
   "title_cell": "Table of Contents",
   "title_sidebar": "Contents",
   "toc_cell": false,
   "toc_position": {
    "height": "calc(100% - 180px)",
    "left": "10px",
    "top": "150px",
    "width": "384px"
   },
   "toc_section_display": true,
   "toc_window_display": true
  },
  "varInspector": {
   "cols": {
    "lenName": 16,
    "lenType": 16,
    "lenVar": 40
   },
   "kernels_config": {
    "python": {
     "delete_cmd_postfix": "",
     "delete_cmd_prefix": "del ",
     "library": "var_list.py",
     "varRefreshCmd": "print(var_dic_list())"
    },
    "r": {
     "delete_cmd_postfix": ") ",
     "delete_cmd_prefix": "rm(",
     "library": "var_list.r",
     "varRefreshCmd": "cat(var_dic_list()) "
    }
   },
   "types_to_exclude": [
    "module",
    "function",
    "builtin_function_or_method",
    "instance",
    "_Feature"
   ],
   "window_display": false
  }
 },
 "nbformat": 4,
 "nbformat_minor": 5
}
